{
  "nbformat": 4,
  "nbformat_minor": 0,
  "metadata": {
    "colab": {
      "name": "Data_generator_V3.ipynb",
      "provenance": [],
      "collapsed_sections": [],
      "machine_shape": "hm",
      "include_colab_link": true
    },
    "kernelspec": {
      "name": "python3",
      "display_name": "Python 3"
    },
    "language_info": {
      "name": "python"
    },
    "accelerator": "GPU"
  },
  "cells": [
    {
      "cell_type": "markdown",
      "metadata": {
        "id": "view-in-github",
        "colab_type": "text"
      },
      "source": [
        "<a href=\"https://colab.research.google.com/github/IceOnDunes/speech-recognition/blob/main/Data_generator_V4.ipynb\" target=\"_parent\"><img src=\"https://colab.research.google.com/assets/colab-badge.svg\" alt=\"Open In Colab\"/></a>"
      ]
    },
    {
      "cell_type": "code",
      "metadata": {
        "id": "zW1nWOCI5HQe"
      },
      "source": [
        "\"\"\" Classe Data generator pour génerer les données par batch durant l'apprentissage \"on the fly\" \n",
        "    code de classe inspiré de : https://stanford.edu/~shervine/blog/keras-how-to-generate-data-on-the-fly\n",
        "    Ajout de la partie pre-traitement (normalisation, calcul de spectrogramme, padding ...) \n",
        "\"\"\"\n",
        "from CTCModel import CTCModel as CTCModel\n",
        "from tensorflow.keras.optimizers  import Adam\n",
        "from tensorflow.keras import regularizers\n",
        "from sklearn.model_selection import train_test_split\n",
        "from tensorflow.keras.layers import Dense, Input,BatchNormalization, Dropout, Activation, TimeDistributed, Activation, Bidirectional, LSTM\n",
        "from tensorflow.keras.utils import Sequence\n",
        "from google.colab import drive\n",
        "import pandas as pd\n",
        "import numpy as np\n",
        "import tensorflow as tf\n",
        "from tensorflow import keras\n",
        "import string\n",
        "import librosa\n",
        "from scipy.io import wavfile\n"
      ],
      "execution_count": 1,
      "outputs": []
    },
    {
      "cell_type": "code",
      "metadata": {
        "id": "mTX_otxg2Pyy"
      },
      "source": [
        "class DataGenerator(tf.keras.utils.Sequence):\n",
        "\n",
        "    'Generates data for Keras'\n",
        "    def __init__(self, list_IDs,shuffle=False, batch_size=32, window_len=128,nfft=256,hop_len=127):\n",
        "        'Initialization'\n",
        "        self.list_IDs = list_IDs\n",
        "        self.hop_len = hop_len\n",
        "        self.batch_size = batch_size\n",
        "        self.nfft= nfft\n",
        "        self.window_len = window_len\n",
        "        self.shuffle = shuffle\n",
        "        self.on_epoch_end()\n",
        "        self.char_dict =  { ' ': 0,\n",
        "                            'a': 1,\n",
        "                            'b' : 2,\n",
        "                            'c' : 3,\n",
        "                            'd' : 4,\n",
        "                            'e' : 5,\n",
        "                            'f' : 6,\n",
        "                            'g' : 7,\n",
        "                            'h' : 8,\n",
        "                            'i' : 9,\n",
        "                            'j' : 10,\n",
        "                            'k' : 11,\n",
        "                            'l' : 12,\n",
        "                            'm' : 13,\n",
        "                            'n' : 14,\n",
        "                            'o' : 15,\n",
        "                            'p' : 16,\n",
        "                            'q' : 17,\n",
        "                            'r' : 18,\n",
        "                            's' : 19,\n",
        "                            't' : 20,\n",
        "                            'u' : 21,\n",
        "                            'v' : 22,\n",
        "                            'w' : 23,\n",
        "                            'x' : 24,\n",
        "                            'y' : 25,\n",
        "                            'z' : 26\n",
        "                            }\n",
        "                          \n",
        "    def __len__(self):\n",
        "        'Denotes the number of batches per epoch'\n",
        "        return int(np.floor(len(self.list_IDs) / self.batch_size))\n",
        "\n",
        "    def __getitem__(self, index):\n",
        "        'Generate one batch of data'\n",
        "        # Generate indexes of the batch\n",
        "        indexes = self.indexes[index*self.batch_size:(index+1)*self.batch_size]\n",
        "\n",
        "        # Find list of IDs\n",
        "        list_IDs_temp = [self.list_IDs[k] for k in indexes]\n",
        "\n",
        "        # Generate data\n",
        "        X, y = self.__data_generation(list_IDs_temp)\n",
        "\n",
        "        return X, y\n",
        "\n",
        "    def on_epoch_end(self):\n",
        "        'Updates indexes after each epoch'\n",
        "        self.indexes = np.arange(len(self.list_IDs))\n",
        "        if self.shuffle == True:\n",
        "            np.random.shuffle(self.indexes)\n",
        "\n",
        "    def get_data (self,data_IDs):\n",
        "      \"\"\"renvoie le son ainsi que son text associé normalisé \"\"\"\n",
        "\n",
        "      son = []\n",
        "      text = []\n",
        "\n",
        "      \"récuperer les characters de ponctuations\"\n",
        "      ponctuation_char = set(string.punctuation)\n",
        "\n",
        "      for d in data_IDs:\n",
        "          fe, audio = wavfile.read(d)\n",
        "          moyenne = audio.mean()\n",
        "          std = audio.std()\n",
        "          audio = (audio-moyenne) / std\n",
        "          son.append(audio)\n",
        "\n",
        "          text_path = d[:-8] + '.TXT'  # conversion chemin audio vers chemin text correspondant\n",
        "          txt = open( text_path, 'r')\n",
        "          ligne = txt.readline()\n",
        "\n",
        "\n",
        "          # normaliser les texts\n",
        "          result = ''.join([i for i in ligne if (not i.isdigit() and i not in ponctuation_char )]).lstrip().lower().replace(\"\\n\", '')\n",
        "          text.append(result)\n",
        "      return son, text\n",
        "\n",
        "\n",
        "    def get_padded_mel_spectro(self,audio, maxlen):\n",
        "        mel_spectro =np.log(np.absolute(librosa.stft(audio.astype(float),  n_fft= self.nfft,hop_length=self.hop_len, win_length=self.window_len)))\n",
        "        x_len = mel_spectro.shape[1]\n",
        "\n",
        "        padded_spectro = tf.keras.preprocessing.sequence.pad_sequences(mel_spectro,maxlen=maxlen, dtype='float', padding='post', truncating='post',value=float(255))\n",
        "        return padded_spectro, x_len\n",
        "\n",
        "    def extract_features(self, x_data_init):\n",
        "      #extract longest spectrogram length\n",
        "        mel_spectrogram = np.log(np.absolute(librosa.stft(max(x_data_init, key=len).astype(float),n_fft= self.nfft,hop_length=self.hop_len, win_length=self.window_len)))\n",
        "        x_max_length = mel_spectrogram.shape[1]\n",
        "        # x_max_length = 640\n",
        "        x_data = []\n",
        "        x_data_len = []\n",
        "\n",
        "        for i in range(len(x_data_init)):\n",
        "\n",
        "            padded_spectro, x_len = self.get_padded_mel_spectro(x_data_init[i], maxlen=x_max_length)\n",
        "\n",
        "            x_data.append(padded_spectro.T)\n",
        "            x_data_len.append(x_len) \n",
        "\n",
        "        #convert to array\n",
        "        data_input = np.array(x_data)\n",
        "        input_length = np.array(x_data_len)\n",
        "\n",
        "        return data_input,input_length\n",
        "\n",
        "#changer les noms\n",
        "    def encode_text(self, y_data_init):\n",
        "\n",
        "        y_max_length = len(max(y_data_init, key=len))\n",
        "        y_data = []\n",
        "        y_data_len = []\n",
        "\n",
        "        for i in range(len(y_data_init)):\n",
        "            encoded = []\n",
        "            for c in y_data_init[i]:\n",
        "                if c=='':\n",
        "                  # changer map char et ajouter en haut\n",
        "                    encoded.append(self.char_dict['<SPACE>'])\n",
        "                else:\n",
        "                  encoded.append(self.char_dict[c])\n",
        "\n",
        "            y_len = len(encoded)\n",
        "\n",
        "\n",
        "            for j in range(len(encoded), y_max_length):\n",
        "                    encoded.append(float(255))\n",
        "            y_data.append(encoded)\n",
        "            y_data_len.append(y_len)\n",
        "\n",
        "        # convert to array\n",
        "        y_data = np.array(y_data)\n",
        "        label_length = np.array(y_data_len)\n",
        "\n",
        "        return y_data, label_length\n",
        "\n",
        "\n",
        "    def __data_generation(self, list_IDs_temp):\n",
        "       # Generate data\n",
        "        x_data_init, y_data_init = self.get_data(list_IDs_temp)\n",
        "\n",
        "        #compute the spec frame of the longest audio\n",
        "        x_data, input_length = self.extract_features(x_data_init)\n",
        "        y_data, label_length = self.encode_text(y_data_init)\n",
        "\n",
        "        inputs = [x_data, y_data, input_length, label_length]\n",
        "        outputs = np.zeros([self.batch_size])\n",
        "        return inputs,outputs"
      ],
      "execution_count": 2,
      "outputs": []
    },
    {
      "cell_type": "code",
      "metadata": {
        "id": "sLskg_tCBdyh"
      },
      "source": [
        "def update_dataframe(csv_path):\n",
        "    ## enleve les colonnes dont on n'a pas besoin\n",
        "    data = pd.read_csv(csv_path)\n",
        "    data = data.dropna(subset=['filename'])\n",
        "    data = data.drop(['test_or_train', 'dialect_region', 'filename',\n",
        "                      'path_from_data_dir', 'is_audio', 'is_word_file',\n",
        "                      'is_phonetic_file', 'is_sentence_file',\n",
        "                      'speaker_id', 'index'], axis=1)\n",
        "\n",
        "    data = data[(data.is_converted_audio == True)]\n",
        "    data = data.reset_index(drop=True)\n",
        "    paths = list(data['path_from_data_dir_windows'])\n",
        "    return data,paths"
      ],
      "execution_count": 3,
      "outputs": []
    },
    {
      "cell_type": "code",
      "metadata": {
        "colab": {
          "base_uri": "https://localhost:8080/"
        },
        "id": "xBgsKFiRCBwO",
        "outputId": "384b1d91-9bd3-481c-c615-d963b8f6288a"
      },
      "source": [
        "from google.colab import drive\n",
        "drive.mount('/content/drive')"
      ],
      "execution_count": 4,
      "outputs": [
        {
          "output_type": "stream",
          "name": "stdout",
          "text": [
            "Drive already mounted at /content/drive; to attempt to forcibly remount, call drive.mount(\"/content/drive\", force_remount=True).\n"
          ]
        }
      ]
    },
    {
      "cell_type": "code",
      "metadata": {
        "id": "q4nUBmPTtlAT"
      },
      "source": [
        "# !cp -r /content/drive/MyDrive/Speech_recognition_dataset  /content/"
      ],
      "execution_count": null,
      "outputs": []
    },
    {
      "cell_type": "code",
      "metadata": {
        "id": "Gn3NmR9DEYCq"
      },
      "source": [
        "#\n",
        "\n",
        "# drive.mount('/content/drive')\n",
        "train_csv = '/content/drive/MyDrive/Speech_recognition_dataset/train_data.csv' #path to train.csv\n",
        "path = '/content/drive/MyDrive/Speech_recognition_dataset/data/' #path to TIMIT data\n",
        "\n",
        "\n",
        "train_dataframe,train_path = update_dataframe(train_csv)\n",
        "\n",
        "train_path = [path + x.replace('\\\\', '/') for x in train_path]\n",
        "valid_path=train_path[4160:-12]\n",
        "train_path=train_path[0:4160]"
      ],
      "execution_count": 5,
      "outputs": []
    },
    {
      "cell_type": "code",
      "metadata": {
        "colab": {
          "base_uri": "https://localhost:8080/"
        },
        "id": "MvWlXFxdLpA5",
        "outputId": "e33b93e9-9eba-418c-807d-9395b2e6a686"
      },
      "source": [
        "print(len(train_path))\n",
        "print(len(valid_path))\n",
        "data_params = {'window_len' : 128,\n",
        "               'hop_len' : 127,\n",
        "               'nfft' : 256,\n",
        "               'batch_size' : 32,\n",
        "               'shuffle' : True\n",
        "               }\n",
        "\n",
        "print(\"Data Generation\")\n",
        "training_generator = DataGenerator(train_path[0:64], **data_params)\n",
        "validation_generator = DataGenerator(valid_path[0:64], **data_params)"
      ],
      "execution_count": 6,
      "outputs": [
        {
          "output_type": "stream",
          "name": "stdout",
          "text": [
            "4160\n",
            "448\n",
            "Data Generation\n"
          ]
        }
      ]
    },
    {
      "cell_type": "code",
      "metadata": {
        "id": "KVCrv_cy1Tml"
      },
      "source": [
        "# !pip install keras_ctcmodel\n",
        "# x_data_init, y_data_init = training_generator.get_data(train_path[0:32])\n",
        "# x_data, input_length = training_generator.extract_features(x_data_init)\n"
      ],
      "execution_count": null,
      "outputs": []
    },
    {
      "cell_type": "code",
      "metadata": {
        "id": "XIICq6uvG7qz"
      },
      "source": [
        "# print(input_length)\n",
        "# print(x_data.shape)"
      ],
      "execution_count": null,
      "outputs": []
    },
    {
      "cell_type": "markdown",
      "metadata": {
        "id": "QJUcSMq7Brl4"
      },
      "source": [
        "# Model"
      ]
    },
    {
      "cell_type": "code",
      "metadata": {
        "id": "H5fEk9DxBjox",
        "colab": {
          "base_uri": "https://localhost:8080/"
        },
        "outputId": "03da8e89-d959-45dd-d856-2225b84be7ab"
      },
      "source": [
        "from tensorflow.keras.layers import Masking\n",
        "\n",
        "units=500\n",
        "nb_features=129\n",
        "optimizer = Adam(lr=0.0001)\n",
        "nb_labels=28\n",
        "\n",
        "x_input = Input((None,nb_features))\n",
        "x = Masking(mask_value=0)(x_input)\n",
        "print(x.shape)\n",
        "x = Bidirectional(LSTM(units,return_sequences=True))(x)\n",
        "print(x.shape)\n",
        "x = Bidirectional(LSTM(units,return_sequences=True))(x)\n",
        "print(x.shape)\n",
        "x = Bidirectional(LSTM(units, return_sequences=True))(x)\n",
        "print(x.shape)\n",
        "x = Bidirectional(LSTM(units,return_sequences=True))(x)\n",
        "print(x.shape)\n",
        "x = Bidirectional(LSTM(units,return_sequences=True))(x)\n",
        "print(x.shape)\n",
        "y_pred = TimeDistributed(Dense(units=nb_labels, activation='softmax'), name='softmax')(x)\n",
        "print(y_pred.shape)\n",
        "x_1 = tf.keras.Model(inputs=x_input, outputs= y_pred)\n",
        "x_1.summary()\n",
        "\n",
        "\n",
        "\n",
        "\n"
      ],
      "execution_count": 7,
      "outputs": [
        {
          "output_type": "stream",
          "name": "stderr",
          "text": [
            "/usr/local/lib/python3.7/dist-packages/keras/optimizer_v2/adam.py:105: UserWarning: The `lr` argument is deprecated, use `learning_rate` instead.\n",
            "  super(Adam, self).__init__(name, **kwargs)\n"
          ]
        },
        {
          "output_type": "stream",
          "name": "stdout",
          "text": [
            "(None, None, 129)\n",
            "(None, None, 1000)\n",
            "(None, None, 1000)\n",
            "(None, None, 1000)\n",
            "(None, None, 1000)\n",
            "(None, None, 1000)\n",
            "(None, None, 28)\n",
            "Model: \"model\"\n",
            "_________________________________________________________________\n",
            " Layer (type)                Output Shape              Param #   \n",
            "=================================================================\n",
            " input_1 (InputLayer)        [(None, None, 129)]       0         \n",
            "                                                                 \n",
            " masking (Masking)           (None, None, 129)         0         \n",
            "                                                                 \n",
            " bidirectional (Bidirectiona  (None, None, 1000)       2520000   \n",
            " l)                                                              \n",
            "                                                                 \n",
            " bidirectional_1 (Bidirectio  (None, None, 1000)       6004000   \n",
            " nal)                                                            \n",
            "                                                                 \n",
            " bidirectional_2 (Bidirectio  (None, None, 1000)       6004000   \n",
            " nal)                                                            \n",
            "                                                                 \n",
            " bidirectional_3 (Bidirectio  (None, None, 1000)       6004000   \n",
            " nal)                                                            \n",
            "                                                                 \n",
            " bidirectional_4 (Bidirectio  (None, None, 1000)       6004000   \n",
            " nal)                                                            \n",
            "                                                                 \n",
            " softmax (TimeDistributed)   (None, None, 28)          28028     \n",
            "                                                                 \n",
            "=================================================================\n",
            "Total params: 26,564,028\n",
            "Trainable params: 26,564,028\n",
            "Non-trainable params: 0\n",
            "_________________________________________________________________\n"
          ]
        }
      ]
    },
    {
      "cell_type": "code",
      "metadata": {
        "id": "_6YjMLxZksP9",
        "colab": {
          "base_uri": "https://localhost:8080/"
        },
        "outputId": "13c9e57b-5998-4378-c524-1f5aedff4a86"
      },
      "source": [
        "# CTC\n",
        "\n",
        "model =CTCModel ([x_input], [y_pred])\n",
        "model.compile(optimizer=optimizer)\n",
        "model.summary()\n",
        "\n"
      ],
      "execution_count": 8,
      "outputs": [
        {
          "output_type": "stream",
          "name": "stdout",
          "text": [
            "Model: \"model_2\"\n",
            "__________________________________________________________________________________________________\n",
            " Layer (type)                   Output Shape         Param #     Connected to                     \n",
            "==================================================================================================\n",
            " input_1 (InputLayer)           [(None, None, 129)]  0           []                               \n",
            "                                                                                                  \n",
            " masking (Masking)              (None, None, 129)    0           ['input_1[0][0]']                \n",
            "                                                                                                  \n",
            " bidirectional (Bidirectional)  (None, None, 1000)   2520000     ['masking[0][0]']                \n",
            "                                                                                                  \n",
            " bidirectional_1 (Bidirectional  (None, None, 1000)  6004000     ['bidirectional[0][0]']          \n",
            " )                                                                                                \n",
            "                                                                                                  \n",
            " bidirectional_2 (Bidirectional  (None, None, 1000)  6004000     ['bidirectional_1[0][0]']        \n",
            " )                                                                                                \n",
            "                                                                                                  \n",
            " bidirectional_3 (Bidirectional  (None, None, 1000)  6004000     ['bidirectional_2[0][0]']        \n",
            " )                                                                                                \n",
            "                                                                                                  \n",
            " bidirectional_4 (Bidirectional  (None, None, 1000)  6004000     ['bidirectional_3[0][0]']        \n",
            " )                                                                                                \n",
            "                                                                                                  \n",
            " softmax (TimeDistributed)      (None, None, 28)     28028       ['bidirectional_4[0][0]']        \n",
            "                                                                                                  \n",
            " labels (InputLayer)            [(None, None)]       0           []                               \n",
            "                                                                                                  \n",
            " input_length (InputLayer)      [(None, 1)]          0           []                               \n",
            "                                                                                                  \n",
            " label_length (InputLayer)      [(None, 1)]          0           []                               \n",
            "                                                                                                  \n",
            " CTCloss (Lambda)               (None, 1)            0           ['softmax[0][0]',                \n",
            "                                                                  'labels[0][0]',                 \n",
            "                                                                  'input_length[0][0]',           \n",
            "                                                                  'label_length[0][0]']           \n",
            "                                                                                                  \n",
            "==================================================================================================\n",
            "Total params: 26,564,028\n",
            "Trainable params: 26,564,028\n",
            "Non-trainable params: 0\n",
            "__________________________________________________________________________________________________\n"
          ]
        }
      ]
    },
    {
      "cell_type": "code",
      "metadata": {
        "id": "SuAXIQ4-7mlM"
      },
      "source": [
        "import os\n",
        "checkpoint_path = \"training_1/cp.ckpt\"\n",
        "checkpoint_dir = os.path.dirname(checkpoint_path)\n",
        "cp_callback = tf.keras.callbacks.ModelCheckpoint(filepath=checkpoint_path,\n",
        "            save_weights_only=True,\n",
        "            verbose=1)"
      ],
      "execution_count": 17,
      "outputs": []
    },
    {
      "cell_type": "code",
      "metadata": {
        "colab": {
          "base_uri": "https://localhost:8080/"
        },
        "id": "xiVe5_9W2zrE",
        "outputId": "3c9e92d4-bad7-4adf-8b46-adc58c582737"
      },
      "source": [
        "with tf.device('/device:GPU:0'):\n",
        "  history=model.fit(training_generator,epochs=1,validation_data=validation_generator,callbacks=[cp_callback])\n"
      ],
      "execution_count": 26,
      "outputs": [
        {
          "output_type": "stream",
          "name": "stdout",
          "text": [
            "2/2 [==============================] - ETA: 0s - loss: 904.1401  \n",
            "Epoch 00001: saving model to training_1/cp.ckpt\n",
            "2/2 [==============================] - 114s 54s/step - loss: 904.1401 - val_loss: 292.4557\n"
          ]
        }
      ]
    },
    {
      "cell_type": "code",
      "metadata": {
        "id": "RUz8Am1K2Ach"
      },
      "source": [
        "# # model.save('/content/drive/MyDrive/Speech_recognition_dataset/model_3')\n",
        "# import tensorflow as tf\n",
        "model.save_model('training_1')"
      ],
      "execution_count": 35,
      "outputs": []
    },
    {
      "cell_type": "code",
      "metadata": {
        "id": "SeEv_4Rs2Pf5",
        "colab": {
          "base_uri": "https://localhost:8080/",
          "height": 312
        },
        "outputId": "38fe0e72-e5fe-45eb-a0f3-018ee51cb047"
      },
      "source": [
        "import matplotlib.pyplot as plt\n",
        "print(history.history.keys())\n",
        "\n",
        "# summarize\n",
        "plt.plot(history.history['loss'])\n",
        "plt.plot(history.history['val_loss'])\n",
        "plt.title('model loss')\n",
        "plt.ylabel('loss')\n",
        "plt.xlabel('epoch')\n",
        "plt.legend(['train', 'test'], loc='upper left')\n",
        "plt.show()"
      ],
      "execution_count": 36,
      "outputs": [
        {
          "output_type": "stream",
          "name": "stdout",
          "text": [
            "dict_keys(['loss', 'val_loss'])\n"
          ]
        },
        {
          "output_type": "display_data",
          "data": {
            "image/png": "[encoded data removed]",
            "text/plain": [
              "<Figure size 432x288 with 1 Axes>"
            ]
          },
          "metadata": {
            "needs_background": "light"
          }
        }
      ]
    },
    {
      "cell_type": "code",
      "metadata": {
        "id": "cRtcgIhVhGe-"
      },
      "source": [
        "test_csv = '/content/drive/MyDrive/Speech_recognition_dataset/test_data.csv' #path to test.csv\n",
        "path = '/content/drive/MyDrive/Speech_recognition_dataset/data/' #path to TIMIT data\n",
        "\n",
        "\n",
        "test_dataframe,test_path = update_dataframe(test_csv)\n",
        "\n",
        "test_path = [path + x.replace('\\\\', '/') for x in test_path]\n",
        "test_path=test_path[0:-4]\n",
        "\n",
        "test_generator = DataGenerator(test_path, **data_params)"
      ],
      "execution_count": 9,
      "outputs": []
    },
    {
      "cell_type": "code",
      "metadata": {
        "id": "ddWuIxo85b8_"
      },
      "source": [
        "x_data_init, y_data_init = test_generator.get_data(test_path[0:4])\n",
        "\n",
        "#compute the spec frame of the longest audio\n",
        "x_data, input_length = test_generator.extract_features(x_data_init)\n",
        "y_data, label_length = test_generator.encode_text(y_data_init)"
      ],
      "execution_count": 10,
      "outputs": []
    },
    {
      "cell_type": "code",
      "metadata": {
        "id": "Iuj28Tjki6tY",
        "colab": {
          "base_uri": "https://localhost:8080/"
        },
        "outputId": "b9f95ad7-7710-42c2-c0d5-b9069fbdd6ef"
      },
      "source": [
        "\n",
        "print(\"Evaluation\")\n",
        "model.save_model('/content/drive/MyDrive/Speech_recognition_dataset')\n",
        "from CTCModel import CTCModel as CTCModel\n",
        "model.evaluate([x_data, y_data, input_length, label_length],batch_size=32,metrics=['ler', 'ser'])\n",
        "\n",
        "\n",
        "\n",
        "# for i in range(10):  # print the 10 first predictions\n",
        "#     print(\"Prediction :\", [j for j in pred[i] if j!=-1])"
      ],
      "execution_count": 11,
      "outputs": [
        {
          "output_type": "stream",
          "name": "stdout",
          "text": [
            "Evaluation\n",
            "1/1 [==============================] - 16s 16s/step\n"
          ]
        },
        {
          "output_type": "execute_result",
          "data": {
            "text/plain": [
              "[array([0.88235295, 0.9117647 , 0.9302326 , 0.8888889 ], dtype=float32), 1.0]"
            ]
          },
          "metadata": {},
          "execution_count": 11
        }
      ]
    },
    {
      "cell_type": "code",
      "metadata": {
        "id": "n6aHXhzPApnu"
      },
      "source": [
        "model.load_weights('/content/drive/MyDrive/Speech_recognition_dataset/model_weights.hdf5')"
      ],
      "execution_count": 26,
      "outputs": []
    },
    {
      "cell_type": "code",
      "metadata": {
        "id": "2wUqBDtKSQCw",
        "colab": {
          "base_uri": "https://localhost:8080/"
        },
        "outputId": "4c2c5127-222f-48e1-e6ab-51953b3a1ebf"
      },
      "source": [
        "from CTCModel import CTCModel as CTCModel\n",
        "print(\"Prediction\")\n",
        "pred = model.predict([x_data, input_length],steps=1)"
      ],
      "execution_count": 15,
      "outputs": [
        {
          "output_type": "stream",
          "name": "stdout",
          "text": [
            "Prediction\n"
          ]
        }
      ]
    },
    {
      "cell_type": "code",
      "metadata": {
        "id": "uEpRrK0vCjKC"
      },
      "source": [
        "pred = model.predict_generator(test_generator,steps=1)"
      ],
      "execution_count": 27,
      "outputs": []
    },
    {
      "cell_type": "code",
      "metadata": {
        "colab": {
          "base_uri": "https://localhost:8080/"
        },
        "id": "kueIdzD5DCvG",
        "outputId": "eb8baf21-0d3c-42ec-a99a-125fbd7f3414"
      },
      "source": [
        "y_data[0:4,:]"
      ],
      "execution_count": 25,
      "outputs": [
        {
          "output_type": "execute_result",
          "data": {
            "text/plain": [
              "array([[ 20.,   8.,   5.,   0.,   2.,  21.,  14.,   7.,   1.,  12.,  15.,\n",
              "         23.,   0.,  23.,   1.,  19.,   0.,  16.,  12.,   5.,   1.,  19.,\n",
              "          1.,  14.,  20.,  12.,  25.,   0.,  19.,   9.,  20.,  21.,   1.,\n",
              "         20.,   5.,   4.,   0.,  14.,   5.,   1.,  18.,   0.,  20.,   8.,\n",
              "          5.,   0.,  19.,   8.,  15.,  18.,   5., 255., 255., 255., 255.,\n",
              "        255., 255., 255., 255., 255., 255., 255., 255., 255., 255., 255.,\n",
              "        255., 255.],\n",
              "       [ 20.,   8.,   9.,  19.,   0.,   7.,  18.,  15.,  21.,  16.,   0.,\n",
              "          9.,  19.,   0.,  19.,   5.,   3.,  21.,  12.,   1.,  18.,   9.,\n",
              "         19.,  20.,   0.,   1.,  14.,   4.,   0.,  20.,   8.,   5.,   9.,\n",
              "         18.,   0.,  16.,  18.,  15.,   7.,  18.,   1.,  13.,   0.,  20.,\n",
              "          5.,  14.,   4.,  19.,   0.,  20.,  15.,   0.,   2.,   5.,   0.,\n",
              "         20.,   5.,   3.,   8.,  14.,  15.,  12.,  15.,   7.,   9.,   3.,\n",
              "          1.,  12.],\n",
              "       [  1.,   0.,   2.,   9.,   7.,   0.,   7.,  15.,   1.,  20.,   0.,\n",
              "          9.,   4.,  12.,  25.,   0.,   1.,  13.,   2.,  12.,   5.,   4.,\n",
              "          0.,  20.,   8.,  18.,  15.,  21.,   7.,   8.,   0.,  20.,   8.,\n",
              "          5.,   0.,   6.,   1.,  18.,  13.,  25.,   1.,  18.,   4., 255.,\n",
              "        255., 255., 255., 255., 255., 255., 255., 255., 255., 255., 255.,\n",
              "        255., 255., 255., 255., 255., 255., 255., 255., 255., 255., 255.,\n",
              "        255., 255.],\n",
              "       [  5.,   1.,  20.,   9.,  14.,   7.,   0.,  19.,  16.,   9.,  14.,\n",
              "          1.,   3.,   8.,   0.,  14.,   9.,   7.,   8.,  20.,  12.,  25.,\n",
              "          0.,   9.,  14.,   3.,  18.,   5.,   1.,  19.,   5.,  19.,   0.,\n",
              "         19.,  20.,  18.,   5.,  14.,   7.,  20.,   8.,   0.,  13.,   9.,\n",
              "         18.,   1.,   3.,  21.,  12.,  15.,  21.,  19.,  12.,  25., 255.,\n",
              "        255., 255., 255., 255., 255., 255., 255., 255., 255., 255., 255.,\n",
              "        255., 255.]])"
            ]
          },
          "metadata": {},
          "execution_count": 25
        }
      ]
    },
    {
      "cell_type": "code",
      "metadata": {
        "colab": {
          "base_uri": "https://localhost:8080/"
        },
        "id": "3drOwecH_hHu",
        "outputId": "956de374-4c12-441c-be6f-9ced8b7083a9"
      },
      "source": [
        "len(pred[0][2])"
      ],
      "execution_count": 40,
      "outputs": [
        {
          "output_type": "execute_result",
          "data": {
            "text/plain": [
              "22"
            ]
          },
          "metadata": {},
          "execution_count": 40
        }
      ]
    },
    {
      "cell_type": "code",
      "metadata": {
        "colab": {
          "base_uri": "https://localhost:8080/"
        },
        "id": "-PLvyXVFEgtz",
        "outputId": "69aa5896-9475-483c-b9d7-363fd82fc8a1"
      },
      "source": [
        "pred[1][0]"
      ],
      "execution_count": 38,
      "outputs": [
        {
          "output_type": "execute_result",
          "data": {
            "text/plain": [
              "array([ 20.,   8.,  15.,  19.,   5.,   0.,  23.,   5.,  18.,   5.,   0.,\n",
              "         5.,  19.,  16.,   5.,   3.,   9.,   1.,  12.,  12.,  25.,   0.,\n",
              "        20.,   8.,   5.,   0.,  15.,  14.,   5.,  19.,   0.,  20.,   8.,\n",
              "         1.,  20.,   0.,   1.,  12.,  12.,   0.,  15.,  20.,   8.,   5.,\n",
              "        18.,   0.,   7.,  18.,  15.,  23.,  14.,  21.,  16.,  19.,   0.,\n",
              "        12.,   1.,  21.,   7.,   8.,   5.,   4.,   0.,   1.,  20.,   0.,\n",
              "        12.,  15.,  21.,   4.,   5.,  19.,  20., 255., 255., 255., 255.])"
            ]
          },
          "metadata": {},
          "execution_count": 38
        }
      ]
    },
    {
      "cell_type": "code",
      "metadata": {
        "id": "Sh55-qc-GNjS"
      },
      "source": [
        "def decode(sequence):\n",
        "    unpaded = [j for j in sequence if j != -1]\n",
        "    pred = []\n",
        "    char_dict =  { ' ': 0,\n",
        "                            'a': 1,\n",
        "                            'b' : 2,\n",
        "                            'c' : 3,\n",
        "                            'd' : 4,\n",
        "                            'e' : 5,\n",
        "                            'f' : 6,\n",
        "                            'g' : 7,\n",
        "                            'h' : 8,\n",
        "                            'i' : 9,\n",
        "                            'j' : 10,\n",
        "                            'k' : 11,\n",
        "                            'l' : 12,\n",
        "                            'm' : 13,\n",
        "                            'n' : 14,\n",
        "                            'o' : 15,\n",
        "                            'p' : 16,\n",
        "                            'q' : 17,\n",
        "                            'r' : 18,\n",
        "                            's' : 19,\n",
        "                            't' : 20,\n",
        "                            'u' : 21,\n",
        "                            'v' : 22,\n",
        "                            'w' : 23,\n",
        "                            'x' : 24,\n",
        "                            'y' : 25,\n",
        "                            'z' : 26\n",
        "                            }\n",
        "    char_dict_inv= dict((v,k) for k,v in char_dict.items())\n",
        "    for c in unpaded:\n",
        "        if c == 0:\n",
        "            pred.append(\" \")\n",
        "        if c==255:\n",
        "          pred.append(\"\")\n",
        "        else:\n",
        "            pred.append(char_dict_inv[c])\n",
        "    pred = ''.join(pred)\n",
        "    return pred"
      ],
      "execution_count": 58,
      "outputs": []
    },
    {
      "cell_type": "code",
      "metadata": {
        "colab": {
          "base_uri": "https://localhost:8080/",
          "height": 35
        },
        "id": "bVmXMK-AGPqq",
        "outputId": "3b86a809-4870-430a-af8e-810c213b0dc4"
      },
      "source": [
        "\n",
        "y_pred=decode(pred[0][0])\n",
        "y_pred"
      ],
      "execution_count": 60,
      "outputs": [
        {
          "output_type": "execute_result",
          "data": {
            "application/vnd.google.colaboratory.intrinsic+json": {
              "type": "string"
            },
            "text/plain": [
              "'fbctfckkwkwkwkfwkckfwkkwkfwpw  '"
            ]
          },
          "metadata": {},
          "execution_count": 60
        }
      ]
    },
    {
      "cell_type": "code",
      "metadata": {
        "colab": {
          "base_uri": "https://localhost:8080/",
          "height": 35
        },
        "id": "MP9r1lNfHqNs",
        "outputId": "2c732da9-bfcd-4415-f184-6d3615251acb"
      },
      "source": [
        "y_true=decode(pred[1][0])\n",
        "y_true"
      ],
      "execution_count": 59,
      "outputs": [
        {
          "output_type": "execute_result",
          "data": {
            "application/vnd.google.colaboratory.intrinsic+json": {
              "type": "string"
            },
            "text/plain": [
              "'those  were  especially  the  ones  that  all  other  grownups  laughed  at  loudest'"
            ]
          },
          "metadata": {},
          "execution_count": 59
        }
      ]
    }
  ]
}