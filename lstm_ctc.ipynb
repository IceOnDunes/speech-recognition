{
 "cells": [
  {
   "cell_type": "code",
   "execution_count": 1,
   "metadata": {},
   "outputs": [],
   "source": [
    "# On importe les librairies usuelless\n",
    "import math\n",
    "import numpy as np\n",
    "import matplotlib.pyplot as plt\n",
    "\n",
    "# On désactive les warnings\n",
    "import warnings\n",
    "warnings.filterwarnings('ignore')"
   ]
  },
  {
   "cell_type": "code",
   "execution_count": 18,
   "metadata": {},
   "outputs": [],
   "source": [
    "from tensorflow import keras\n",
    "from tensorflow.keras.layers import Dense , Input , SimpleRNN, LSTM , Embedding, Dropout\n",
    "from tensorflow.keras.layers import Bidirectional, GlobalMaxPool1D\n",
    "from tensorflow.keras.models import Model, Sequential\n",
    "from tensorflow.keras.layers import Convolution1D\n",
    "from tensorflow.keras import layers\n",
    "from keras.layers import Lambda\n",
    "import keras.backend as K"
   ]
  },
  {
   "cell_type": "code",
   "execution_count": 3,
   "metadata": {},
   "outputs": [],
   "source": [
    "def ctc_lambda_func(args):\n",
    "    y_pred, labels, input_length, label_length = args\n",
    "    return K.ctc_batch_cost(labels, y_pred, input_length, label_length)"
   ]
  },
  {
   "cell_type": "code",
   "execution_count": 4,
   "metadata": {},
   "outputs": [],
   "source": [
    "def ctc_complete_decoding_lambda_func(args, **arguments):\n",
    "    \"\"\"\n",
    "    Complete CTC decoding using Keras (function K.ctc_decode)\n",
    "    :param args: \n",
    "        y_pred, input_length\n",
    "    :param arguments:\n",
    "        greedy, beam_width, top_paths\n",
    "    :return: \n",
    "        K.ctc_decode with dtype='float32'\n",
    "    \"\"\"\n",
    "\n",
    "    # import tensorflow as tf # Require for loading a model saved\n",
    "\n",
    "    y_pred, input_length = args\n",
    "    my_params = arguments\n",
    "\n",
    "    assert (K.backend() == 'tensorflow')\n",
    "\n",
    "    return K.cast(K.ctc_decode(y_pred, tf.squeeze(input_length), greedy=my_params['greedy'],\n",
    "                               beam_width=my_params['beam_width'], top_paths=my_params['top_paths'])[0][0],\n",
    "                  dtype='float32')\n"
   ]
  },
  {
   "cell_type": "code",
   "execution_count": 5,
   "metadata": {},
   "outputs": [],
   "source": [
    "embed_size = 128                                                   # dimension de l'embedding\n",
    "LSTM_size   = 500\n",
    "# Example d'architecture pour le réseau RNN simple avec dropout"
   ]
  },
  {
   "cell_type": "code",
   "execution_count": 10,
   "metadata": {},
   "outputs": [],
   "source": [
    "labels = Input(name='labels', shape=[None])\n",
    "input_length = Input(name='input_length', shape=[1])\n",
    "label_length = Input(name='label_length', shape=[1])\n",
    "\n",
    "input_data = Input(name='input', shape=(None, 128)) # nb_features = image height\n",
    "\n",
    "blstm = Bidirectional(LSTM(LSTM_size, return_sequences=True))(input_data)\n",
    "blstm = Bidirectional(LSTM(LSTM_size, return_sequences=True))(blstm)\n",
    "blstm = Bidirectional(LSTM(LSTM_size, return_sequences=True))(blstm)\n",
    "blstm = Bidirectional(LSTM(LSTM_size, return_sequences=True))(blstm)\n",
    "blstm = Bidirectional(LSTM(LSTM_size, return_sequences=True))(blstm)"
   ]
  },
  {
   "cell_type": "code",
   "execution_count": 11,
   "metadata": {},
   "outputs": [],
   "source": [
    "loss_out = Lambda(ctc_lambda_func, output_shape=(1,), name='ctc') ([blstm, labels, input_length, label_length])"
   ]
  },
  {
   "cell_type": "code",
   "execution_count": 19,
   "metadata": {},
   "outputs": [
    {
     "name": "stdout",
     "output_type": "stream",
     "text": [
      "Model: \"model_7\"\n",
      "__________________________________________________________________________________________________\n",
      " Layer (type)                   Output Shape         Param #     Connected to                     \n",
      "==================================================================================================\n",
      " input (InputLayer)             [(None, None, 128)]  0           []                               \n",
      "                                                                                                  \n",
      " bidirectional_5 (Bidirectional  (None, None, 1000)  2516000     ['input[0][0]']                  \n",
      " )                                                                                                \n",
      "                                                                                                  \n",
      " bidirectional_6 (Bidirectional  (None, None, 1000)  6004000     ['bidirectional_5[0][0]']        \n",
      " )                                                                                                \n",
      "                                                                                                  \n",
      " bidirectional_7 (Bidirectional  (None, None, 1000)  6004000     ['bidirectional_6[0][0]']        \n",
      " )                                                                                                \n",
      "                                                                                                  \n",
      " bidirectional_8 (Bidirectional  (None, None, 1000)  6004000     ['bidirectional_7[0][0]']        \n",
      " )                                                                                                \n",
      "                                                                                                  \n",
      " bidirectional_9 (Bidirectional  (None, None, 1000)  6004000     ['bidirectional_8[0][0]']        \n",
      " )                                                                                                \n",
      "                                                                                                  \n",
      " labels (InputLayer)            [(None, None)]       0           []                               \n",
      "                                                                                                  \n",
      " input_length (InputLayer)      [(None, 1)]          0           []                               \n",
      "                                                                                                  \n",
      " label_length (InputLayer)      [(None, 1)]          0           []                               \n",
      "                                                                                                  \n",
      " ctc (Lambda)                   (None, 1)            0           ['bidirectional_9[0][0]',        \n",
      "                                                                  'labels[0][0]',                 \n",
      "                                                                  'input_length[0][0]',           \n",
      "                                                                  'label_length[0][0]']           \n",
      "                                                                                                  \n",
      "==================================================================================================\n",
      "Total params: 26,532,000\n",
      "Trainable params: 26,532,000\n",
      "Non-trainable params: 0\n",
      "__________________________________________________________________________________________________\n"
     ]
    }
   ],
   "source": [
    "model = Model(inputs=[input_data, labels, input_length, label_length], outputs=loss_out)\n",
    "model.compile(loss={'ctc': lambda y_true, y_pred: y_pred}, optimizer  = keras.optimizers.SGD(learning_rate=10**(-4),momentum=0.9))\n",
    "model.summary()"
   ]
  },
  {
   "cell_type": "code",
   "execution_count": null,
   "metadata": {},
   "outputs": [],
   "source": []
  },
  {
   "cell_type": "code",
   "execution_count": null,
   "metadata": {},
   "outputs": [],
   "source": [
    "model.fit_generator(generator=training_generator,\n",
    "                    use_multiprocessing=True,\n",
    "                    workers=2)\n",
    "model.save('saved_model/my_model')"
   ]
  },
  {
   "cell_type": "code",
   "execution_count": null,
   "metadata": {},
   "outputs": [],
   "source": [
    "test = \n",
    "prediction = model.predict(test)\n",
    "\n",
    "# use CTC decoder\n",
    "out = K.get_value(K.ctc_decode(prediction, input_length=np.ones(prediction.shape[0])*prediction.shape[1],greedy=True)[0][0]).predict(test)"
   ]
  }
 ],
 "metadata": {
  "kernelspec": {
   "display_name": "Python 3",
   "language": "python",
   "name": "python3"
  },
  "language_info": {
   "codemirror_mode": {
    "name": "ipython",
    "version": 3
   },
   "file_extension": ".py",
   "mimetype": "text/x-python",
   "name": "python",
   "nbconvert_exporter": "python",
   "pygments_lexer": "ipython3",
   "version": "3.8.3"
  }
 },
 "nbformat": 4,
 "nbformat_minor": 4
}
